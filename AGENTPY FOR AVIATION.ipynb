{
 "cells": [
  {
   "cell_type": "markdown",
   "metadata": {},
   "source": [
    "MODELLING RYANYAIR"
   ]
  },
  {
   "cell_type": "code",
   "execution_count": 1,
   "metadata": {},
   "outputs": [],
   "source": [
    "#Import all libraries needed\n",
    "import agentpy as ap \n",
    "import numpy as np #for scientific computing \n",
    "import scipy as sp #for scientific computing\n",
    "import matplotlib.pyplot as plt #for graphs and visualisation\n",
    "import pandas as pd #for data manipulation\n",
    "import networkx as nx #for networks and graphs\n"
   ]
  },
  {
   "cell_type": "code",
   "execution_count": 2,
   "metadata": {},
   "outputs": [],
   "source": [
    "#import libraries from SALib\n",
    "from SALib.sample import saltelli\n",
    "from SALib.analyze import sobol\n",
    "from joblib import Parallel, delayed\n",
    "from SALib.analyze.sobol import analyze\n",
    "from SALib.sample.sobol import sample\n",
    "from SALib.test_functions import Ishigami"
   ]
  },
  {
   "cell_type": "code",
   "execution_count": 3,
   "metadata": {},
   "outputs": [],
   "source": [
    "from joblib import Memory #for parallel processing"
   ]
  },
  {
   "cell_type": "code",
   "execution_count": 5,
   "metadata": {},
   "outputs": [
    {
     "ename": "SyntaxError",
     "evalue": "incomplete input (2769736066.py, line 8)",
     "output_type": "error",
     "traceback": [
      "\u001b[1;36m  Cell \u001b[1;32mIn[5], line 8\u001b[1;36m\u001b[0m\n\u001b[1;33m    def step(self):\u001b[0m\n\u001b[1;37m                   ^\u001b[0m\n\u001b[1;31mSyntaxError\u001b[0m\u001b[1;31m:\u001b[0m incomplete input\n"
     ]
    }
   ],
   "source": [
    "#DEFINE AIRLINES\n",
    "\n",
    "class Aircraft(ap.Agent):\n",
    "    def setup(self):\n",
    "        self.age = 10 #years\n",
    "        self.fuel_consumption = 0.019 #The fuel burn per passenger km for a Ryanair aircraft\n",
    "        self.emissions = 14900000 #metrics tonnes\n",
    "    def step(self):\n",
    "        self.emissions = \n"
   ]
  },
  {
   "cell_type": "code",
   "execution_count": 1,
   "metadata": {},
   "outputs": [],
   "source": [
    "import agentpy as ap\n",
    "import numpy as np\n",
    "\n",
    "class RyanairModel(ap.Model):\n",
    "    def setup(self):\n",
    "        # Setup parameters\n",
    "        self.num_aircraft = self.p.num_aircraft\n",
    "        self.num_passengers = self.p.num_passengers\n",
    "        self.co2_per_rpk = self.p.co2_per_rpk\n",
    "        self.co2_total = self.p.co2_total\n",
    "        self.co2_price = self.p.co2_price\n",
    "        self.emission_growth_rate = self.p.emission_growth_rate\n",
    "\n",
    "        # Initialize aircraft agents\n",
    "        self.aircrafts = ap.AgentList(self, self.num_aircraft)\n",
    "        for aircraft in self.aircrafts:\n",
    "            aircraft.age = self.random.randint(1, 30)  # Example age range\n",
    "            aircraft.fuel_consumption = self.random.uniform(2, 4)  # Example fuel consumption rate\n",
    "\n",
    "        # Initialize passenger agents\n",
    "        self.passengers = ap.AgentList(self, self.num_passengers)\n",
    "        self.passenger_km = self.p.passenger_km\n",
    "\n",
    "    def step(self):\n",
    "        # Simulate CO2 emissions based on passenger km\n",
    "        total_rpk = self.num_passengers * self.passenger_km\n",
    "        self.emissions = total_rpk * self.co2_per_rpk / 1e6  # Convert to metric tons\n",
    "        self.co2_total += self.emissions * (1 + self.emission_growth_rate)  # Account for growth\n",
    "\n",
    "    def update(self):\n",
    "        # Update the model with the new CO2 total\n",
    "        self.record('co2_total', self.co2_total)\n",
    "\n",
    "    def end(self):\n",
    "        # Final model state\n",
    "        self.report('Final CO2 Total', self.co2_total)\n",
    "\n",
    "# Parameters\n",
    "parameters = {\n",
    "    'num_aircraft': 250,  # Example number of aircraft\n",
    "    'num_passengers': 150000000,  # Example number of passengers\n",
    "    'co2_per_rpk': 0.083,  # 83 grams per RPK\n",
    "    'co2_total': 14.9e6,  # 14.9 million metric tons\n",
    "    'co2_price': 46.73,\n",
    "    'emission_growth_rate': 0.23 / 4,  # 23% over 4 years\n",
    "    'passenger_km': 2000  # Example average distance per passenger\n",
    "}\n",
    "\n",
    "# Create and run the model\n",
    "model = RyanairModel(parameters)\n",
    "results = model.run()\n",
    "\n",
    "# Print the final CO2 total\n",
    "print(results.report('Final CO2 Total'))\n"
   ]
  }
 ],
 "metadata": {
  "kernelspec": {
   "display_name": "Python 3",
   "language": "python",
   "name": "python3"
  },
  "language_info": {
   "codemirror_mode": {
    "name": "ipython",
    "version": 3
   },
   "file_extension": ".py",
   "mimetype": "text/x-python",
   "name": "python",
   "nbconvert_exporter": "python",
   "pygments_lexer": "ipython3",
   "version": "3.11.9"
  }
 },
 "nbformat": 4,
 "nbformat_minor": 2
}

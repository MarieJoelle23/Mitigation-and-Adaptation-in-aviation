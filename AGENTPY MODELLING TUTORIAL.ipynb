{
 "cells": [
  {
   "cell_type": "code",
   "execution_count": 4,
   "metadata": {},
   "outputs": [],
   "source": [
    "#Import all libraries needed\n",
    "import agentpy as ap \n",
    "import numpy as np #for scientific computing \n",
    "import scipy as sp #for scientific computing\n",
    "import matplotlib.pyplot as plt #for graphs and visualisation\n",
    "import pandas as pd #for data manipulation\n",
    "import networkx as nx #for networks and graphs\n"
   ]
  },
  {
   "cell_type": "code",
   "execution_count": 6,
   "metadata": {},
   "outputs": [],
   "source": [
    "#import libraries from SALib\n",
    "from SALib.sample import saltelli\n",
    "from SALib.analyze import sobol\n",
    "from joblib import Parallel, delayed\n",
    "from SALib.analyze.sobol import analyze\n",
    "from SALib.sample.sobol import sample\n",
    "from SALib.test_functions import Ishigami"
   ]
  },
  {
   "cell_type": "code",
   "execution_count": 7,
   "metadata": {},
   "outputs": [],
   "source": [
    "from joblib import Memory #for parallel processing"
   ]
  },
  {
   "cell_type": "code",
   "execution_count": 8,
   "metadata": {},
   "outputs": [],
   "source": [
    "#CREATING AGENT\n",
    "class MyAgent(ap.Agent):\n",
    "\n",
    "    def setup(self):\n",
    "        # Initialize an attribute with a parameter\n",
    "        self.my_attribute = self.p.my_parameter\n",
    "\n",
    "    def agent_method(self):\n",
    "        # Define custom actions here\n",
    "        pass"
   ]
  },
  {
   "cell_type": "code",
   "execution_count": 9,
   "metadata": {},
   "outputs": [],
   "source": [
    "#CREATE MODEL\n",
    "class MyModel(ap.Model):\n",
    "\n",
    "    def setup(self):\n",
    "        \"\"\" Initiate a list of new agents. \"\"\"\n",
    "        self.agents = ap.AgentList(self, self.p.agents, MyAgent)\n",
    "\n",
    "    def step(self):\n",
    "        \"\"\" Call a method for every agent. \"\"\"\n",
    "        self.agents.agent_method()\n",
    "\n",
    "    def update(self):\n",
    "        \"\"\" Record a dynamic variable. \"\"\"\n",
    "        self.agents.record('my_attribute')\n",
    "\n",
    "    def end(self):\n",
    "        \"\"\" Repord an evaluation measure. \"\"\"\n",
    "        self.report('my_measure', 1)"
   ]
  }
 ],
 "metadata": {
  "kernelspec": {
   "display_name": "Python 3",
   "language": "python",
   "name": "python3"
  },
  "language_info": {
   "codemirror_mode": {
    "name": "ipython",
    "version": 3
   },
   "file_extension": ".py",
   "mimetype": "text/x-python",
   "name": "python",
   "nbconvert_exporter": "python",
   "pygments_lexer": "ipython3",
   "version": "3.11.9"
  }
 },
 "nbformat": 4,
 "nbformat_minor": 2
}

{
 "cells": [
  {
   "cell_type": "markdown",
   "metadata": {},
   "source": [
    "This is a simulation for wealth. \n",
    "\n",
    "The purpose of this model is to simulate and explore the distribution of wealth among a population of agents who engage in random trading. Each agent starts with an equal amount of wealth and randomly selects other agents to trade with, transferring a unit of wealth to them if they have any wealth to spare. The aim is to observe how wealth gets distributed over time as agents engage in these random trades.\n",
    "\n",
    "Expected Results\n",
    "Over the course of the simulation, we expect to see how the wealth distribution evolves. This can help us understand phenomena such as wealth inequality, where some agents may end up with a lot of wealth while others may end up with none. The final distribution of wealth will give insights into how randomness and repeated interactions can lead to different wealth distributions in a population."
   ]
  },
  {
   "cell_type": "code",
   "execution_count": 1,
   "metadata": {},
   "outputs": [],
   "source": [
    "import agentpy as ap"
   ]
  },
  {
   "cell_type": "code",
   "execution_count": 3,
   "metadata": {},
   "outputs": [],
   "source": [
    "#DEFINE THE AGENTS\n",
    "\n",
    "class WealthAgent(ap.Agent):\n",
    "    def setup(self):\n",
    "        self.wealth = 1 #each agent starts with 1 wealth\n",
    "    def wealth_transfer(self):\n",
    "        if self.wealth > 0: #if agent has 1 wealth it is randomly picking a partner, and taking its wealth\n",
    "            partner = self.model.agents.random()\n",
    "            partner.wealth += 1 #partner now has additional 1 wealth\n",
    "            self.wealth-= 1 #agent has -1 wealth"
   ]
  },
  {
   "cell_type": "code",
   "execution_count": 5,
   "metadata": {},
   "outputs": [],
   "source": [
    "#DEFINE THE MODEL\n",
    "class WealthModel(ap.Model):\n",
    "    \n",
    "    def setup(self):\n",
    "        self.agents = ap.AgentList(self, self.p.n, WealthAgent) #self.p.n accesses the parameters n (the amount of agents to create - later)\n",
    "    def step(self):\n",
    "        self.agents.wealth_transfer() #applies for every single agents\n",
    "    def end(self):\n",
    "        self.agents.record('wealth')\n"
   ]
  },
  {
   "cell_type": "markdown",
   "metadata": {},
   "source": [
    "Model.setup is called at the start of the simulation (t==0).\n",
    "\n",
    "Model.step is called during every time-step (excluding t==0).\n",
    "\n",
    "Model.update is called after every time-step (including t==0).\n",
    "\n",
    "Model.end is called at the end of the simulation"
   ]
  },
  {
   "cell_type": "code",
   "execution_count": 1,
   "metadata": {},
   "outputs": [
    {
     "ename": "NameError",
     "evalue": "name 'WealthModel' is not defined",
     "output_type": "error",
     "traceback": [
      "\u001b[1;31m---------------------------------------------------------------------------\u001b[0m",
      "\u001b[1;31mNameError\u001b[0m                                 Traceback (most recent call last)",
      "Cell \u001b[1;32mIn[1], line 3\u001b[0m\n\u001b[0;32m      1\u001b[0m \u001b[38;5;66;03m#RUN THE MODEL\u001b[39;00m\n\u001b[0;32m      2\u001b[0m parameters \u001b[38;5;241m=\u001b[39m {\u001b[38;5;124m'\u001b[39m\u001b[38;5;124mn\u001b[39m\u001b[38;5;124m'\u001b[39m: \u001b[38;5;241m100\u001b[39m, \u001b[38;5;124m'\u001b[39m\u001b[38;5;124msteps\u001b[39m\u001b[38;5;124m'\u001b[39m: \u001b[38;5;241m100\u001b[39m}\n\u001b[1;32m----> 3\u001b[0m model \u001b[38;5;241m=\u001b[39m \u001b[43mWealthModel\u001b[49m(parameters) \u001b[38;5;66;03m#name of the model created above\u001b[39;00m\n\u001b[0;32m      4\u001b[0m results \u001b[38;5;241m=\u001b[39m model\u001b[38;5;241m.\u001b[39mrun()\n",
      "\u001b[1;31mNameError\u001b[0m: name 'WealthModel' is not defined"
     ]
    }
   ],
   "source": [
    "#RUN THE MODEL\n",
    "parameters = {'n': 100, 'steps': 100}\n",
    "model = WealthModel(parameters) #name of the model created above\n",
    "results = model.run()"
   ]
  },
  {
   "cell_type": "code",
   "execution_count": 22,
   "metadata": {},
   "outputs": [
    {
     "ename": "AttributeError",
     "evalue": "module 'matplotlib' has no attribute 'plot'",
     "output_type": "error",
     "traceback": [
      "\u001b[1;31m---------------------------------------------------------------------------\u001b[0m",
      "\u001b[1;31mAttributeError\u001b[0m                            Traceback (most recent call last)",
      "Cell \u001b[1;32mIn[22], line 3\u001b[0m\n\u001b[0;32m      1\u001b[0m \u001b[38;5;66;03m#VISAUALISE THE RESULTS\u001b[39;00m\n\u001b[0;32m      2\u001b[0m \u001b[38;5;28;01mimport\u001b[39;00m \u001b[38;5;21;01mmatplotlib\u001b[39;00m \u001b[38;5;28;01mas\u001b[39;00m \u001b[38;5;21;01mplt\u001b[39;00m\n\u001b[1;32m----> 3\u001b[0m \u001b[43mplt\u001b[49m\u001b[38;5;241;43m.\u001b[39;49m\u001b[43mplot\u001b[49m(data \u001b[38;5;241m=\u001b[39m results\u001b[38;5;241m.\u001b[39mWealthModel)\n\u001b[0;32m      4\u001b[0m plt\u001b[38;5;241m.\u001b[39mtitle(\u001b[38;5;124m'\u001b[39m\u001b[38;5;124mWealth Distribution at End of Simulation\u001b[39m\u001b[38;5;124m'\u001b[39m)\n\u001b[0;32m      5\u001b[0m plt\u001b[38;5;241m.\u001b[39mxlabel(\u001b[38;5;124m'\u001b[39m\u001b[38;5;124mWealth\u001b[39m\u001b[38;5;124m'\u001b[39m)\n",
      "File \u001b[1;32m~\\AppData\\Local\\Packages\\PythonSoftwareFoundation.Python.3.11_qbz5n2kfra8p0\\LocalCache\\local-packages\\Python311\\site-packages\\matplotlib\\_api\\__init__.py:217\u001b[0m, in \u001b[0;36mcaching_module_getattr.<locals>.__getattr__\u001b[1;34m(name)\u001b[0m\n\u001b[0;32m    215\u001b[0m \u001b[38;5;28;01mif\u001b[39;00m name \u001b[38;5;129;01min\u001b[39;00m props:\n\u001b[0;32m    216\u001b[0m     \u001b[38;5;28;01mreturn\u001b[39;00m props[name]\u001b[38;5;241m.\u001b[39m\u001b[38;5;21m__get__\u001b[39m(instance)\n\u001b[1;32m--> 217\u001b[0m \u001b[38;5;28;01mraise\u001b[39;00m \u001b[38;5;167;01mAttributeError\u001b[39;00m(\n\u001b[0;32m    218\u001b[0m     \u001b[38;5;124mf\u001b[39m\u001b[38;5;124m\"\u001b[39m\u001b[38;5;124mmodule \u001b[39m\u001b[38;5;132;01m{\u001b[39;00m\u001b[38;5;28mcls\u001b[39m\u001b[38;5;241m.\u001b[39m\u001b[38;5;18m__module__\u001b[39m\u001b[38;5;132;01m!r}\u001b[39;00m\u001b[38;5;124m has no attribute \u001b[39m\u001b[38;5;132;01m{\u001b[39;00mname\u001b[38;5;132;01m!r}\u001b[39;00m\u001b[38;5;124m\"\u001b[39m)\n",
      "\u001b[1;31mAttributeError\u001b[0m: module 'matplotlib' has no attribute 'plot'"
     ]
    }
   ],
   "source": [
    "#VISAUALISE THE RESULTS\n",
    "import matplotlib as plt\n",
    "plt.plot(data = results.WealthModel)\n",
    "plt.title('Wealth Distribution at End of Simulation')\n",
    "plt.xlabel('Wealth')\n",
    "plt.ylabel('Number of Agents')\n",
    "plt.show()"
   ]
  }
 ],
 "metadata": {
  "kernelspec": {
   "display_name": "Python 3",
   "language": "python",
   "name": "python3"
  },
  "language_info": {
   "codemirror_mode": {
    "name": "ipython",
    "version": 3
   },
   "file_extension": ".py",
   "mimetype": "text/x-python",
   "name": "python",
   "nbconvert_exporter": "python",
   "pygments_lexer": "ipython3",
   "version": "3.11.9"
  }
 },
 "nbformat": 4,
 "nbformat_minor": 2
}
